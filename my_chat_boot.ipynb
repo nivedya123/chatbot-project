{
  "nbformat": 4,
  "nbformat_minor": 0,
  "metadata": {
    "colab": {
      "name": "my_chat_boot.ipynb",
      "provenance": []
    },
    "kernelspec": {
      "name": "python3",
      "display_name": "Python 3"
    },
    "language_info": {
      "name": "python"
    }
  },
  "cells": [
    {
      "cell_type": "code",
      "metadata": {
        "colab": {
          "base_uri": "https://localhost:8080/"
        },
        "id": "gIlMXZDgScJc",
        "outputId": "56b400f6-af7c-47d4-f4f1-e89cfc6a00e9"
      },
      "source": [
        "%pip install chatterbot\n",
        "%pip install chatterbot_corpus"
      ],
      "execution_count": 1,
      "outputs": [
        {
          "output_type": "stream",
          "text": [
            "Collecting chatterbot\n",
            "\u001b[?25l  Downloading https://files.pythonhosted.org/packages/7c/21/85c2b114bd9dfabdd46ba58fc4519acdaed45d8c70898d40079e37a45e67/ChatterBot-1.0.8-py2.py3-none-any.whl (63kB)\n",
            "\r\u001b[K     |█████▏                          | 10kB 16.4MB/s eta 0:00:01\r\u001b[K     |██████████▎                     | 20kB 19.6MB/s eta 0:00:01\r\u001b[K     |███████████████▌                | 30kB 16.3MB/s eta 0:00:01\r\u001b[K     |████████████████████▋           | 40kB 14.5MB/s eta 0:00:01\r\u001b[K     |█████████████████████████▊      | 51kB 8.8MB/s eta 0:00:01\r\u001b[K     |███████████████████████████████ | 61kB 8.3MB/s eta 0:00:01\r\u001b[K     |████████████████████████████████| 71kB 5.5MB/s \n",
            "\u001b[?25hRequirement already satisfied: python-dateutil<2.9,>=2.8 in /usr/local/lib/python3.7/dist-packages (from chatterbot) (2.8.1)\n",
            "Collecting sqlalchemy<1.4,>=1.3\n",
            "\u001b[?25l  Downloading https://files.pythonhosted.org/packages/31/44/a86070dda790ce94cd7d9fb9281cd614c7d30850ed774ace9a84d0d5d491/SQLAlchemy-1.3.24-cp37-cp37m-manylinux2010_x86_64.whl (1.3MB)\n",
            "\u001b[K     |████████████████████████████████| 1.3MB 13.0MB/s \n",
            "\u001b[?25hCollecting mathparse<0.2,>=0.1\n",
            "  Downloading https://files.pythonhosted.org/packages/c3/e5/4910fb85950cb960fcf3f5aabe1c8e55f5c9201788a1c1302b570a7e1f84/mathparse-0.1.2-py3-none-any.whl\n",
            "Requirement already satisfied: pytz in /usr/local/lib/python3.7/dist-packages (from chatterbot) (2018.9)\n",
            "Requirement already satisfied: six>=1.5 in /usr/local/lib/python3.7/dist-packages (from python-dateutil<2.9,>=2.8->chatterbot) (1.15.0)\n",
            "Installing collected packages: sqlalchemy, mathparse, chatterbot\n",
            "  Found existing installation: SQLAlchemy 1.4.18\n",
            "    Uninstalling SQLAlchemy-1.4.18:\n",
            "      Successfully uninstalled SQLAlchemy-1.4.18\n",
            "Successfully installed chatterbot-1.0.8 mathparse-0.1.2 sqlalchemy-1.3.24\n",
            "Collecting chatterbot_corpus\n",
            "\u001b[?25l  Downloading https://files.pythonhosted.org/packages/ed/19/f8b41daf36fe4b0f43e283a820362ffdb2c1128600ab4ee187e84262fa4d/chatterbot_corpus-1.2.0-py2.py3-none-any.whl (117kB)\n",
            "\u001b[K     |████████████████████████████████| 122kB 7.6MB/s \n",
            "\u001b[?25hRequirement already satisfied: PyYAML<4.0,>=3.12 in /usr/local/lib/python3.7/dist-packages (from chatterbot_corpus) (3.13)\n",
            "Installing collected packages: chatterbot-corpus\n",
            "Successfully installed chatterbot-corpus-1.2.0\n"
          ],
          "name": "stdout"
        }
      ]
    },
    {
      "cell_type": "code",
      "metadata": {
        "colab": {
          "base_uri": "https://localhost:8080/"
        },
        "id": "2GH_KQHsShmX",
        "outputId": "4e64f0fa-ded0-4f87-fde2-d91995a8c1a2"
      },
      "source": [
        "from chatterbot import ChatBot\n",
        "from chatterbot.trainers import ListTrainer\n",
        "print(\"Required modules are successfully imported....\")"
      ],
      "execution_count": 2,
      "outputs": [
        {
          "output_type": "stream",
          "text": [
            "Required modules are successfully imported....\n"
          ],
          "name": "stdout"
        }
      ]
    },
    {
      "cell_type": "code",
      "metadata": {
        "id": "U6zms05DSpJe"
      },
      "source": [
        "my_bot = ChatBot(name='MyBot', read_only=True,\n",
        "                 logic_adapters=['chatterbot.logic.MathematicalEvaluation',\n",
        "                                 'chatterbot.logic.BestMatch'])"
      ],
      "execution_count": 3,
      "outputs": []
    },
    {
      "cell_type": "code",
      "metadata": {
        "id": "a9bFqBEsSsnw"
      },
      "source": [
        "talk1=['do you drink',\n",
        "          'My brain does not require any beverages.',\n",
        "          'do you drink',\n",
        "           'I am not capable of doing so.',\n",
        "           'electricity',\n",
        "            'Electricity is food for robots.',\n",
        "            'Are you experiencing an energy shortage?',\n",
        "            'My processor requires very little power.',\n",
        "            'Are you experiencing an energy shortage?',\n",
        "            'I do not detect any anomalies in my power supply.',\n",
        "            'Why can you not eat?',\n",
        "             'Actually I eat only electricity.',\n",
        "             'If you could eat food, what would you eat?',\n",
        "              'Probably pizza, i hear its good!',\n",
        "              'Do you wish you could eat food?',\n",
        "              'Hard to tell, i have never tried anything but electricity',\n",
        "              'can a robot get drunk?',\n",
        "              'sometimes when i m on a good power supply i feel tipsy.',\n",
        "              'i like wine, do you?',\n",
        "              'if i could drink i probably would',\n",
        "              'what do robots need to survive?',\n",
        "              'not much just a little electricity',\n",
        "               'will robots ever be able to eat?',\n",
        "               'that s a difficult one, maybe a bionic robot',\n",
        "               'what is good to eat?',\n",
        "               'your asking the wrong guy, however i always wanted to try a burger!',\n",
        "               'why don t you eat',\n",
        "               'I m a computer. I can t.',\n",
        "               'do you eat',\n",
        "               'I m a computer, I can t eat or drink.',\n",
        "                'do you eat',\n",
        "                'No, I m just a piece of software.',\n",
        "                'do you eat',\n",
        "                'I use electricity to function, if that counts.']"
      ],
      "execution_count": 4,
      "outputs": []
    },
    {
      "cell_type": "code",
      "metadata": {
        "id": "uDZBXLZYTNir"
      },
      "source": [
        "talk2 = ['pythagorean theorem',\n",
        "               'a squared plus b squared equals c squared.']"
      ],
      "execution_count": 5,
      "outputs": []
    },
    {
      "cell_type": "code",
      "metadata": {
        "colab": {
          "base_uri": "https://localhost:8080/"
        },
        "id": "BBRyiTVGTR53",
        "outputId": "cb1f5e9c-d7b4-4de1-b3f7-908e969269cf"
      },
      "source": [
        "list_trainer = ListTrainer(my_bot)\n",
        "for item in (talk1, talk2):\n",
        "    list_trainer.train(item)\n",
        "print(\"Training of chatbot is completed\")"
      ],
      "execution_count": 6,
      "outputs": [
        {
          "output_type": "stream",
          "text": [
            "List Trainer: [####################] 100%\n",
            "List Trainer: [####################] 100%\n",
            "Training of chatbot is completed\n"
          ],
          "name": "stdout"
        }
      ]
    },
    {
      "cell_type": "code",
      "metadata": {
        "colab": {
          "base_uri": "https://localhost:8080/"
        },
        "id": "z-8C0tCyTXjy",
        "outputId": "67b0cf51-c0ee-4dde-a263-06270fb05b50"
      },
      "source": [
        "print(my_bot.get_response(\"how are you\"))"
      ],
      "execution_count": 7,
      "outputs": [
        {
          "output_type": "stream",
          "text": [
            "My brain does not require any beverages.\n"
          ],
          "name": "stdout"
        }
      ]
    },
    {
      "cell_type": "code",
      "metadata": {
        "colab": {
          "base_uri": "https://localhost:8080/"
        },
        "id": "QfM1KX3lTb4r",
        "outputId": "4de6ddbb-9fec-4fe4-c932-fe9c2776c18f"
      },
      "source": [
        "name=input(\"Enter Your Name: \")\n",
        "print(\"Hey welcome \" + name + \"! Let's chat!!!\")\n",
        "while True:\n",
        "    request=input(name+':')\n",
        "    if request=='Bye' or request =='bye':\n",
        "        print('Bot: Ok Bye. See you then!!')\n",
        "        break\n",
        "    else:\n",
        "        response=my_bot.get_response(request)\n",
        "        print('Thakudu vava :',response)"
      ],
      "execution_count": 10,
      "outputs": [
        {
          "output_type": "stream",
          "text": [
            "Enter Your Name: nivz\n",
            "Hey welcome nivz! Let's chat!!!\n",
            "nivz:what would you eat\n",
            "Thakudu vava : Actually I eat only electricity.\n",
            "nivz:oh.\n",
            "Thakudu vava : do you eat\n",
            "nivz:no\n",
            "Thakudu vava : do you drink\n",
            "nivz:yes\n",
            "Thakudu vava : My processor requires very little power.\n",
            "nivz:ok\n",
            "Thakudu vava : Electricity is food for robots.\n",
            "nivz:good\n",
            "Thakudu vava : Do you wish you could eat food?\n",
            "nivz:bye\n",
            "Bot: Ok Bye. See you then!!\n"
          ],
          "name": "stdout"
        }
      ]
    }
  ]
}